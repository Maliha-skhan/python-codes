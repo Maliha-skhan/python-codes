{
 "cells": [
  {
   "cell_type": "code",
   "execution_count": 1,
   "metadata": {},
   "outputs": [],
   "source": [
    "import numpy as np\n",
    "import matplotlib.pyplot as plt\n",
    "from iminuit import Minuit\n",
    "from scipy import stats\n",
    "import os, sys                                         # Modules to see files and folders in directories\n",
    "from os.path import dirname as parent_folder\n",
    "from scipy.stats import pearsonr\n",
    "# plt.close('all')"
   ]
  },
  {
   "cell_type": "code",
   "execution_count": 2,
   "metadata": {},
   "outputs": [],
   "source": [
    "sys.path.append('../External_Functions')\n",
    "from ExternalFunctions import Chi2Regression, BinnedLH, UnbinnedLH\n",
    "from ExternalFunctions import nice_string_output, add_text_to_ax    # Useful functions to print fit results on figure"
   ]
  },
  {
   "cell_type": "code",
   "execution_count": 3,
   "metadata": {},
   "outputs": [],
   "source": [
    "import warnings\n",
    "warnings.filterwarnings(\"ignore\")"
   ]
  },
  {
   "cell_type": "code",
   "execution_count": 4,
   "metadata": {},
   "outputs": [],
   "source": [
    "r = np.random             # Random generator\n",
    "r.seed(42)                # Set a random (but fixed) seed\n",
    "\n",
    "font_size = 10"
   ]
  },
  {
   "cell_type": "code",
   "execution_count": 5,
   "metadata": {},
   "outputs": [],
   "source": [
    "Verbose = False\n",
    "Saveplots = True"
   ]
  },
  {
   "cell_type": "code",
   "execution_count": 6,
   "metadata": {},
   "outputs": [],
   "source": [
    "IncludeSignalInData = False\n",
    "IncludeSignalInFit = False"
   ]
  },
  {
   "cell_type": "code",
   "execution_count": 7,
   "metadata": {},
   "outputs": [
    {
     "name": "stdout",
     "output_type": "stream",
     "text": [
      "Date            HourInDay       DayInYear       DayOfWeek       USstate         UScoast         Shape           DurationInSec\n",
      "1/4/2019 \t0.2 \t\t4 \t\t4 \t\tMO \t\t0 \t\tRectangle  \t20.0\n",
      "1/3/2019 \t20.5 \t\t3 \t\t3 \t\tTN \t\t0 \t\tDisk       \t1.0\n",
      "1/3/2019 \t20.0 \t\t3 \t\t3 \t\tIL \t\t0 \t\tTriangle   \t20.0\n",
      "1/3/2019 \t17.3 \t\t3 \t\t3 \t\tMA \t\t2 \t\tDiamond    \t120.0\n",
      "1/3/2019 \t15.0 \t\t3 \t\t3 \t\tCA \t\t1 \t\tOval       \t1800.0\n",
      "1/3/2019 \t6.0 \t\t3 \t\t3 \t\tND \t\t0 \t\tLight      \t30.0\n",
      "1/3/2019 \t4.6 \t\t3 \t\t3 \t\tCA \t\t1 \t\tCircle     \t1200.0\n",
      "1/3/2019 \t2.8 \t\t3 \t\t3 \t\tAZ \t\t0 \t\tUnknown    \t300.0\n",
      "1/1/2019 \t0.4 \t\t1 \t\t1 \t\tID \t\t0 \t\tLight      \t180.0\n",
      "1/1/2019 \t0.1 \t\t1 \t\t1 \t\tFL \t\t2 \t\tCircle     \t180.0\n",
      "12/31/2018 \t23.0 \t\t365 \t\t0 \t\tFL \t\t2 \t\tLight      \t300.0\n",
      "12/31/2018 \t21.8 \t\t365 \t\t0 \t\tMS \t\t0 \t\tUnknown    \t300.0\n",
      "12/31/2018 \t21.8 \t\t365 \t\t0 \t\tSC \t\t2 \t\tSphere     \t10.0\n",
      "12/31/2018 \t21.7 \t\t365 \t\t0 \t\tFL \t\t2 \t\tFireball   \t20.0\n",
      "12/31/2018 \t20.2 \t\t365 \t\t0 \t\tCT \t\t2 \t\tCircle     \t20.0\n",
      "12/31/2018 \t19.5 \t\t365 \t\t0 \t\tFL \t\t2 \t\tUnknown    \t600.0\n",
      "12/31/2018 \t6.8 \t\t365 \t\t0 \t\tCA \t\t1 \t\tOval       \t30.0\n",
      "12/30/2018 \t22.2 \t\t364 \t\t6 \t\tMS \t\t0 \t\tFlash      \t120.0\n",
      "12/30/2018 \t20.5 \t\t364 \t\t6 \t\tFL \t\t2 \t\tLight      \t300.0\n",
      "12/30/2018 \t18.0 \t\t364 \t\t6 \t\tWA \t\t1 \t\tFireball   \t600.0\n",
      "12/30/2018 \t18.0 \t\t364 \t\t6 \t\tWA \t\t1 \t\tCircle     \t1200.0\n",
      "12/30/2018 \t15.5 \t\t364 \t\t6 \t\tFL \t\t2 \t\tDisk       \t900.0\n",
      "12/29/2018 \t20.5 \t\t363 \t\t5 \t\t- \t\t2 \t\tUnknown    \t900.0\n",
      "12/29/2018 \t18.0 \t\t363 \t\t5 \t\tCT \t\t2 \t\tSphere     \t4.0\n",
      "12/29/2018 \t17.8 \t\t363 \t\t5 \t\tCA \t\t1 \t\tOval       \t1.0\n",
      "12/29/2018 \t17.0 \t\t363 \t\t5 \t\tCT \t\t2 \t\tDisk       \t180.0\n",
      "12/29/2018 \t0.5 \t\t363 \t\t5 \t\tTX \t\t0 \t\tChanging   \t600.0\n",
      "12/28/2018 \t21.1 \t\t362 \t\t4 \t\tWV \t\t0 \t\tSphere     \t900.0\n",
      "12/28/2018 \t21.1 \t\t362 \t\t4 \t\tNY \t\t2 \t\tTeardrop   \t3.0\n",
      "The total number of data points read is: 64719\n"
     ]
    }
   ],
   "source": [
    "# ----------------------------------------------------------------------------------- #\n",
    "#\n",
    "#  Script for reading data for the Applied Statistics problem on \"UFO Sightings\".\n",
    "#\n",
    "#  Some of the less intuitive columns are codified as follows:\n",
    "#    DayInYear: 1st of January=1, 2nd of January=2, ..., 31st of December=365 or 366\n",
    "#    DayOfWeek: Monday=0, Tuesday=1, Wednesday=2, Thursday=3, Friday=4, Saturday=5, Sunday=6\n",
    "#    UScoast: Non-coast=0, WestCoast=1, EastCoast=2\n",
    "#\n",
    "#  Author: Troels C. Petersen (NBI)\n",
    "#  Email:  petersen@nbi.dk\n",
    "#  Date:   1st of December 2019\n",
    "# ----------------------------------------------------------------------------------- #\n",
    "\n",
    "import numpy as np\n",
    "\n",
    "verbose = True\n",
    "N_verbose = 30\n",
    "filename = 'data_UfoSightings.txt'\n",
    "\n",
    "date = []\n",
    "HourInDay = []\n",
    "DayInYear = []\n",
    "DayOfWeek = []\n",
    "USstate = []\n",
    "UScoast = []\n",
    "Shape = []\n",
    "DurationInSec = []\n",
    "\n",
    "\n",
    "with open(filename, 'r' ) as infile:\n",
    "    header1 = infile.readline()     # Read (and ignore) the first four line, which are header lines!\n",
    "    header2 = infile.readline()     # These explain what the data/columns contains.\n",
    "    header3 = infile.readline()\n",
    "    header4 = infile.readline()\n",
    "    if verbose:\n",
    "        print('Date            HourInDay       DayInYear       DayOfWeek       USstate         UScoast         Shape           DurationInSec')\n",
    "        \n",
    "    counter = 0\n",
    "    for line in infile:\n",
    "        \n",
    "        columns = line.strip().split()\n",
    "        if (len(columns) == 8):\n",
    "            \n",
    "            date.append(columns[0])\n",
    "            HourInDay.append(float(columns[1]))\n",
    "            DayInYear.append(int(columns[2]))\n",
    "            DayOfWeek.append(int(columns[3]))\n",
    "            USstate.append(columns[4])\n",
    "            UScoast.append(int(float(columns[5])))\n",
    "            Shape.append(columns[6])\n",
    "            DurationInSec.append(float(columns[7]))\n",
    "            \n",
    "            counter += 1\n",
    "            \n",
    "            if verbose and counter < N_verbose:\n",
    "                print(f\"\"\"{date[-1]} \\t{HourInDay[-1]:.1f} \\t\\t{DayInYear[-1]} \\t\\t{DayOfWeek[-1]} \\t\\t{USstate[-1]} \\t\\t{UScoast[-1]} \\t\\t{Shape[-1]:10s} \\t{DurationInSec[-1]}\"\"\")\n",
    "\n",
    "print(f\"The total number of data points read is: {counter:d}\")\n",
    "\n",
    "# Convert everything to numpy arrays:\n",
    "date = np.array(date)\n",
    "HourInDay = np.array(HourInDay)\n",
    "DayInYear = np.array(DayInYear)\n",
    "DayOfWeek = np.array(DayOfWeek)\n",
    "USstate = np.array(USstate)\n",
    "UScoast = np.array(UScoast)\n",
    "Shape = np.array(Shape)\n",
    "DurationInSec = np.array(DurationInSec)"
   ]
  },
  {
   "cell_type": "code",
   "execution_count": 8,
   "metadata": {},
   "outputs": [],
   "source": [
    "#plt.plot(DurationInSec)\n",
    "#plt.hist(DurationInSec, bins=200)  # arguments are passed to np.histogram\n",
    "#plt.title(\"Histogram with 'auto' bins\")\n",
    "#plt.Text(0.5, 1.0, \"Histogram with 'auto' bins\")\n",
    "#plt.xlabel('duration in seconds')\n",
    "#plt.ylabel('counts')\n",
    "#plt.show()"
   ]
  },
  {
   "cell_type": "code",
   "execution_count": 9,
   "metadata": {},
   "outputs": [
    {
     "name": "stdout",
     "output_type": "stream",
     "text": [
      "[0.00e+00 1.00e+00 1.00e+00 ... 4.32e+04 5.04e+04 6.48e+04]\n"
     ]
    }
   ],
   "source": [
    "#min(DurationInSec)\n",
    "#np.max(DurationInSec)\n",
    "\n",
    "DurationInSec.sort()\n",
    "print(DurationInSec)"
   ]
  },
  {
   "cell_type": "code",
   "execution_count": 10,
   "metadata": {},
   "outputs": [
    {
     "data": {
      "image/png": "[encoded data removed]",
      "text/plain": [
       "<Figure size 432x288 with 1 Axes>"
      ]
     },
     "metadata": {
      "needs_background": "light"
     },
     "output_type": "display_data"
    }
   ],
   "source": [
    "fig, ax = plt.subplots()\n",
    "x = DurationInSec#30*np.random.randn(10000)\n",
    "mu = x.mean()\n",
    "median = np.median(x)\n",
    "#sigma = x.std()\n",
    "textstr = '\\n'.join((\n",
    "    r'$\\mu=%.2f$' % (mu, ),\n",
    "    r'$\\mathrm{median}=%.2f$' % (median, )))\n",
    "#textstr = '\\n'.join((\n",
    "#    r'$\\mu=%.2f$' % (mu, ),\n",
    "#    r'$\\mathrm{median}=%.2f$' % (median, ),\n",
    "#    r'$\\sigma=%.2f$' % (sigma, )))\n",
    "\n",
    "#ax.plot(x,'b.')\n",
    "ax.hist(x, 800)\n",
    "# these are matplotlib.patch.Patch properties\n",
    "props = dict(boxstyle='round', facecolor='wheat', alpha=0.5)\n",
    "\n",
    "# place a text box in upper left in axes coords\n",
    "ax.text(0.05, 0.95, textstr, transform=ax.transAxes, fontsize=14,\n",
    "        verticalalignment='top', bbox=props)\n",
    "ax.set_xlabel('duration in seconds')\n",
    "ax.set_ylabel('counts')\n",
    "ax.set_xlim(0,6000)\n",
    "\n",
    "plt.show()\n",
    "#fig.savefig(\"duration_obs.pdf\", bbox_inches='tight')"
   ]
  },
  {
   "cell_type": "code",
   "execution_count": 11,
   "metadata": {},
   "outputs": [
    {
     "data": {
      "text/plain": [
       "(array([    4,     6,    16, ..., 64696, 64702, 64709], dtype=int64),)"
      ]
     },
     "execution_count": 11,
     "metadata": {},
     "output_type": "execute_result"
    }
   ],
   "source": [
    "#UScoast==1 # west coast\n",
    "#index=UScoast.index('1')\n",
    "\n",
    "np.where(UScoast == 1)"
   ]
  },
  {
   "cell_type": "code",
   "execution_count": 12,
   "metadata": {},
   "outputs": [],
   "source": [
    "westcoast=DurationInSec[np.where(UScoast == 1)]\n",
    "eastcoast=DurationInSec[np.where(UScoast == 2)]"
   ]
  },
  {
   "cell_type": "code",
   "execution_count": 13,
   "metadata": {},
   "outputs": [
    {
     "data": {
      "image/png": "[encoded data removed]",
      "text/plain": [
       "<Figure size 432x288 with 1 Axes>"
      ]
     },
     "metadata": {
      "needs_background": "light"
     },
     "output_type": "display_data"
    }
   ],
   "source": [
    "fig2, ax2 = plt.subplots()\n",
    "xw = DurationInSec[np.where(UScoast == 1)]#westcoast#30*np.random.randn(10000)\n",
    "muw = xw.mean()\n",
    "medianw = np.median(xw)\n",
    "#sigma = x.std()\n",
    "textstr = '\\n'.join((\n",
    "    r'$\\mu=%.2f$' % (muw, ),\n",
    "    r'$\\mathrm{median}=%.2f$' % (medianw, )))\n",
    "#textstr = '\\n'.join((\n",
    "#    r'$\\mu=%.2f$' % (mu, ),\n",
    "#    r'$\\mathrm{median}=%.2f$' % (median, ),\n",
    "#    r'$\\sigma=%.2f$' % (sigma, )))\n",
    "\n",
    "#ax2.plot(xw)#\n",
    "ax2.hist(xw, 800)\n",
    "# these are matplotlib.patch.Patch properties\n",
    "props = dict(boxstyle='round', facecolor='wheat', alpha=0.5)\n",
    "\n",
    "# place a text box in upper left in axes coords\n",
    "ax2.text(0.05, 0.95, textstr, transform=ax.transAxes, fontsize=14,\n",
    "        verticalalignment='top', bbox=props)\n",
    "ax2.set_xlabel('duration in seconds')\n",
    "ax2.set_ylabel('counts')\n",
    "#ax2.set_title('West Coast')\n",
    "ax2.set_xlim(1,3000)\n",
    "\n",
    "plt.show()\n",
    "#fig.savefig(\"foo1.pdf\", bbox_inches='tight')"
   ]
  },
  {
   "cell_type": "code",
   "execution_count": 14,
   "metadata": {},
   "outputs": [
    {
     "data": {
      "image/png": "[encoded data removed]",
      "text/plain": [
       "<Figure size 432x288 with 1 Axes>"
      ]
     },
     "metadata": {
      "needs_background": "light"
     },
     "output_type": "display_data"
    }
   ],
   "source": [
    "#plt.figure(figsize=(7, 4))\n",
    "#ax = plt.subplot(121)\n",
    "fig3, ax3 = plt.subplots()\n",
    "xe = DurationInSec[np.where(UScoast == 2)]#30*np.random.randn(10000)\n",
    "mue = xe.mean()\n",
    "mediane = np.median(xe)\n",
    "#sigma = x.std()\n",
    "textstr = '\\n'.join((\n",
    "    r'$\\mu=%.2f$' % (mue, ),\n",
    "    r'$\\mathrm{median}=%.2f$' % (mediane, )))\n",
    "#textstr = '\\n'.join((\n",
    "#    r'$\\mu=%.2f$' % (mu, ),\n",
    "#    r'$\\mathrm{median}=%.2f$' % (median, ),\n",
    "#    r'$\\sigma=%.2f$' % (sigma, )))\n",
    "\n",
    "#ax3.plot(xe)#\n",
    "ax3.hist(xe, 800)\n",
    "#plt.hist(xe, 800)\n",
    "# these are matplotlib.patch.Patch properties\n",
    "props = dict(boxstyle='round', facecolor='wheat', alpha=0.5)\n",
    "\n",
    "# place a text box in upper left in axes coords\n",
    "ax3.text(0.05, 0.95, textstr, transform=ax.transAxes, fontsize=14,\n",
    "        verticalalignment='top', bbox=props)\n",
    "ax3.set_xlabel('duration in seconds')\n",
    "ax3.set_ylabel('counts')\n",
    "#ax2.set_Title('West Coast')\n",
    "ax3.set_xlim(0,4000)\n",
    "\n",
    "#plt.text(0.05, 0.95, textstr, transform=ax.transAxes, fontsize=14,\n",
    "#        verticalalignment='top', bbox=props)\n",
    "#plt.xlabel('duration in seconds')\n",
    "#plt.ylabel('counts')\n",
    "#ax2.set_Title('West Coast')\n",
    "#plt.xlim(0,4000)\n",
    "\n",
    "#plt.show()\n",
    "#fig.savefig(\"foo1.pdf\", bbox_inches='tight')\n",
    "\n",
    "#fig4, ax4 = \n",
    "#plt.subplots(122)\n",
    "#xww = DurationInSec[np.where(UScoast == 2)]#30*np.random.randn(10000)\n",
    "#yww= DayOfWeek[np.where(UScoast == 2)]\n",
    "\n",
    "#muww = yww.mean()\n",
    "#medianww = np.median(yww)\n",
    "#sigma = x.std()\n",
    "#textstr = '\\n'.join((\n",
    "#    r'$\\mu=%.2f$' % (muww, ),\n",
    "#    r'$\\mathrm{median}=%.2f$' % (medianww, )))\n",
    "#textstr = '\\n'.join((\n",
    "#    r'$\\mu=%.2f$' % (mu, ),\n",
    "#    r'$\\mathrm{median}=%.2f$' % (median, ),\n",
    "#    r'$\\sigma=%.2f$' % (sigma, )))\n",
    "\n",
    "#ax4.plot(yww)\n",
    "#ax4.\n",
    "#plt.hist(yww, 800)\n",
    "# these are matplotlib.patch.Patch properties\n",
    "#props = dict(boxstyle='round', facecolor='wheat', alpha=0.5)\n",
    "\n",
    "# place a text box in upper left in axes coords\n",
    "#ax4.text(0.05, 0.95, textstr, transform=ax.transAxes, fontsize=14,\n",
    "#        verticalalignment='top', bbox=props)\n",
    "#ax4.set_xlabel('duration in seconds')\n",
    "#ax4.set_ylabel('counts')\n",
    "#ax2.set_title('West Coast')\n",
    "# place a text box in upper left in axes coords\n",
    "#plt.text(0.05, 0.95, textstr, transform=ax.transAxes, fontsize=14,\n",
    "#        verticalalignment='top', bbox=props)\n",
    "#plt.xlabel('duration in seconds')\n",
    "#plt.ylabel('counts')\n",
    "#ax2.set_title('West Coast')\n",
    "\n",
    "plt.show()\n"
   ]
  },
  {
   "cell_type": "code",
   "execution_count": 15,
   "metadata": {},
   "outputs": [
    {
     "name": "stdout",
     "output_type": "stream",
     "text": [
      "Pearsons correlation: 0.024\n"
     ]
    }
   ],
   "source": [
    "data1=DayInYear\n",
    "data2=HourInDay\n",
    "\n",
    "# calculate Pearson's correlation\n",
    "corr, _ = pearsonr(data1, data2)\n",
    "print('Pearsons correlation: %.3f' % corr)"
   ]
  },
  {
   "cell_type": "code",
   "execution_count": 16,
   "metadata": {},
   "outputs": [
    {
     "data": {
      "image/png": "[encoded data removed]",
      "text/plain": [
       "<Figure size 432x288 with 1 Axes>"
      ]
     },
     "metadata": {
      "needs_background": "light"
     },
     "output_type": "display_data"
    }
   ],
   "source": [
    "fig4, ax4 = plt.subplots()\n",
    "#xww = DurationInSec[np.where(UScoast == 2)]#30*np.random.randn(10000)\n",
    "yww= DayOfWeek[np.where(UScoast == 1)]\n",
    "\n",
    "muww = yww.mean()\n",
    "medianww = np.median(yww)\n",
    "#sigma = x.std()\n",
    "textstr = '\\n'.join((\n",
    "    r'$\\mu=%.2f$' % (muww, ),\n",
    "    r'$\\mathrm{median}=%.2f$' % (medianww, )))\n",
    "#textstr = '\\n'.join((\n",
    "#    r'$\\mu=%.2f$' % (mu, ),\n",
    "#    r'$\\mathrm{median}=%.2f$' % (median, ),\n",
    "#    r'$\\sigma=%.2f$' % (sigma, )))\n",
    "\n",
    "#ax4.plot(yww)\n",
    "ax4.hist(yww, 7)\n",
    "# these are matplotlib.patch.Patch properties\n",
    "props = dict(boxstyle='round', facecolor='wheat', alpha=0.5)\n",
    "\n",
    "# place a text box in upper left in axes coords\n",
    "ax4.text(0.05, 0.95, textstr, transform=ax.transAxes, fontsize=14,\n",
    "        verticalalignment='top', bbox=props)\n",
    "ax4.set_xlabel('West Coast: day of week (Mon-Sun)')\n",
    "ax4.set_ylabel('counts')\n",
    "#ax2.set_title('West Coast')\n",
    "\n",
    "plt.show()\n",
    "fig4.savefig(\"dayofweek.pdf\", bbox_inches='tight')"
   ]
  },
  {
   "cell_type": "code",
   "execution_count": 17,
   "metadata": {},
   "outputs": [],
   "source": [
    "#yww= yww[np.where(UScoast == 1)]"
   ]
  },
  {
   "cell_type": "code",
   "execution_count": 18,
   "metadata": {},
   "outputs": [
    {
     "data": {
      "text/plain": [
       "6"
      ]
     },
     "execution_count": 18,
     "metadata": {},
     "output_type": "execute_result"
    }
   ],
   "source": [
    "np.max(yww)"
   ]
  },
  {
   "cell_type": "code",
   "execution_count": 19,
   "metadata": {},
   "outputs": [
    {
     "name": "stdout",
     "output_type": "stream",
     "text": [
      "7199.634696372776 7270.0\n"
     ]
    }
   ],
   "source": [
    "mt=np.array(np.where(yww<=3))\n",
    "\n",
    "mumt = mt.mean()\n",
    "medianmt = np.median(mt)\n",
    "print(mumt,medianmt)\n"
   ]
  },
  {
   "cell_type": "code",
   "execution_count": 20,
   "metadata": {},
   "outputs": [],
   "source": [
    "# Fill 1d histograms:\n",
    "def create_1d_hist(ax, values, bins, x_range, title):\n",
    "    ax.hist(values, bins, x_range, histtype='step', normed=False, lw=2)         \n",
    "    ax.set(xlim=x_range, title=title)\n",
    "    hist_data = np.histogram(values, bins, x_range)\n",
    "    return hist_data"
   ]
  },
  {
   "cell_type": "code",
   "execution_count": 32,
   "metadata": {},
   "outputs": [],
   "source": [
    "# Calculate the ChiSquare value for comparison of histogram with constant.\n",
    "# This is not a fit, as there are no free parameters: We know the number of events and bins!\n",
    "def get_chi2_ndf( hist, const):\n",
    "    #data = hist[0]\n",
    "    data = hist\n",
    "    const_unnormed = const * data.sum() # if we have uniform distribution then const=1/10\n",
    "    chi2 = np.sum( (data - const_unnormed)**2 / data )\n",
    "    ndof = data.size\n",
    "    return chi2, ndof"
   ]
  },
  {
   "cell_type": "code",
   "execution_count": 33,
   "metadata": {},
   "outputs": [
    {
     "name": "stdout",
     "output_type": "stream",
     "text": [
      "frequecy of each bin [1791 1773 1945 1852 2070 2611 2097]\n",
      "chi2 219.5989526548046\n",
      "ndof 7\n",
      "p-val 8.02653122767144e-44\n"
     ]
    }
   ],
   "source": [
    "N_bins=7\n",
    "NA,_=np.histogram(yww,bins=N_bins)\n",
    "print('frequecy of each bin',NA)\n",
    "chi2A, ndofA=get_chi2_ndf(NA,1/7)\n",
    "#chi2[1]=get_chi2_ndf(N,1)\n",
    "print('chi2',chi2A)\n",
    "print('ndof',ndofA)\n",
    "\n",
    "p_chi2A = stats.chi2.sf(chi2A, ndofA) \n",
    "print('p-val',p_chi2A) "
   ]
  },
  {
   "cell_type": "code",
   "execution_count": 34,
   "metadata": {},
   "outputs": [
    {
     "data": {
      "text/plain": [
       "14139"
      ]
     },
     "execution_count": 34,
     "metadata": {},
     "output_type": "execute_result"
    }
   ],
   "source": [
    "len(yww)"
   ]
  },
  {
   "cell_type": "code",
   "execution_count": 35,
   "metadata": {},
   "outputs": [
    {
     "data": {
      "text/plain": [
       "array([1791, 1773, 1945, 1852], dtype=int64)"
      ]
     },
     "execution_count": 35,
     "metadata": {},
     "output_type": "execute_result"
    }
   ],
   "source": [
    "NA[0:4]"
   ]
  },
  {
   "cell_type": "code",
   "execution_count": 36,
   "metadata": {},
   "outputs": [
    {
     "name": "stdout",
     "output_type": "stream",
     "text": [
      "frequecy of each bin [1791 1773 1945 1852]\n",
      "chi2 9.621071020456892\n",
      "ndof 4\n",
      "p-val 0.04731808200288284\n"
     ]
    }
   ],
   "source": [
    "N_bins=4\n",
    "#NA,_=np.histogram(yww,bins=N_bins)\n",
    "print('frequecy of each bin',NA[0:4])\n",
    "chi2AA, ndofAA=get_chi2_ndf(NA[0:4],1/4)\n",
    "#chi2[1]=get_chi2_ndf(N,1)\n",
    "print('chi2',chi2AA)\n",
    "print('ndof',ndofAA)\n",
    "\n",
    "p_chi2AA = stats.chi2.sf(chi2AA, ndofAA) \n",
    "print('p-val',p_chi2AA) "
   ]
  },
  {
   "cell_type": "code",
   "execution_count": null,
   "metadata": {},
   "outputs": [],
   "source": []
  }
 ],
 "metadata": {
  "kernelspec": {
   "display_name": "Python 3",
   "language": "python",
   "name": "python3"
  },
  "language_info": {
   "codemirror_mode": {
    "name": "ipython",
    "version": 3
   },
   "file_extension": ".py",
   "mimetype": "text/x-python",
   "name": "python",
   "nbconvert_exporter": "python",
   "pygments_lexer": "ipython3",
   "version": "3.7.3"
  }
 },
 "nbformat": 4,
 "nbformat_minor": 2
}
